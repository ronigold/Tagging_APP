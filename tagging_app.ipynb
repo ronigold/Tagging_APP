{
 "cells": [
  {
   "cell_type": "markdown",
   "id": "electoral-making",
   "metadata": {
    "Collapsed": "false"
   },
   "source": [
    "## Tagging app"
   ]
  },
  {
   "cell_type": "code",
   "execution_count": 32,
   "id": "regional-federal",
   "metadata": {
    "Collapsed": "false"
   },
   "outputs": [],
   "source": [
    "from pigeonXT import annotate\n",
    "from IPython.display import display, Image\n",
    "import ipywidgets as widgets\n",
    "import pandas as pd\n",
    "import os\n",
    "import base64\n",
    "from IPython.display import HTML\n",
    "from IPython import display as dis\n",
    "from IPython.core.display import display as display_core"
   ]
  },
  {
   "cell_type": "code",
   "execution_count": 34,
   "id": "thermal-honolulu",
   "metadata": {},
   "outputs": [
    {
     "data": {
      "application/vnd.jupyter.widget-view+json": {
       "model_id": "826caa4eb9484d99bccc618375059528",
       "version_major": 2,
       "version_minor": 0
      },
      "text/plain": [
       "HTML(value='0 of 6 Examples annotated, Current Position: 0 ')"
      ]
     },
     "metadata": {},
     "output_type": "display_data"
    },
    {
     "data": {
      "application/vnd.jupyter.widget-view+json": {
       "model_id": "520b6b14769c44ef9709355ce9852684",
       "version_major": 2,
       "version_minor": 0
      },
      "text/plain": [
       "HBox(children=(Button(description='Anomaly', style=ButtonStyle()), Button(description='Not Anomaly', style=But…"
      ]
     },
     "metadata": {},
     "output_type": "display_data"
    },
    {
     "data": {
      "application/vnd.jupyter.widget-view+json": {
       "model_id": "1064de4e7f194d908581fee0578d63e3",
       "version_major": 2,
       "version_minor": 0
      },
      "text/plain": [
       "Output()"
      ]
     },
     "metadata": {},
     "output_type": "display_data"
    }
   ],
   "source": [
    "waveform_name = 'PIV'\n",
    "SYS_IMG_DIR = 'img_' + waveform_name\n",
    "img_list = list(filter(lambda x: x.endswith('png'), os.listdir(SYS_IMG_DIR)))\n",
    "img_list.sort()\n",
    "\n",
    "annotations = annotate(\n",
    "  img_list,\n",
    "  include_back = True,\n",
    "  options=['Anomaly', 'Not Anomaly'],\n",
    "  display_fn=lambda filename: display(Image(os.path.join(SYS_IMG_DIR, filename)))\n",
    ")"
   ]
  },
  {
   "cell_type": "code",
   "execution_count": 23,
   "id": "bibliographic-nightlife",
   "metadata": {},
   "outputs": [],
   "source": [
    "def display_download_link(x):\n",
    "    display_core(create_download_link(title = \"Download lables as CSV\", filename = \"data.csv\"))"
   ]
  },
  {
   "cell_type": "code",
   "execution_count": 35,
   "id": "introductory-steel",
   "metadata": {},
   "outputs": [],
   "source": [
    "toggle = widgets.ToggleButtons(\n",
    "                options=['Done'],\n",
    "                index = None,\n",
    "                disabled=False,\n",
    "                button_style='',\n",
    "                tooltips=['Get a link to download the labels'])\n",
    "toggle.observe(display_download_link, names=['value'])\n",
    "display_core(toggle)"
   ]
  }
 ],
 "metadata": {
  "jupytext": {
   "text_representation": {
    "extension": ".py",
    "format_name": "light",
    "format_version": "1.5",
    "jupytext_version": "1.5.2"
   }
  },
  "kernelspec": {
   "display_name": "Python 3",
   "language": "python",
   "name": "python3"
  },
  "language_info": {
   "codemirror_mode": {
    "name": "ipython",
    "version": 3
   },
   "file_extension": ".py",
   "mimetype": "text/x-python",
   "name": "python",
   "nbconvert_exporter": "python",
   "pygments_lexer": "ipython3",
   "version": "3.8.5"
  }
 },
 "nbformat": 4,
 "nbformat_minor": 5
}
