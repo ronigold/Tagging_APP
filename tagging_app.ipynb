{
 "cells": [
  {
   "cell_type": "markdown",
   "id": "electoral-making",
   "metadata": {
    "Collapsed": "false"
   },
   "source": [
    "## Tagging app"
   ]
  },
  {
   "cell_type": "code",
   "execution_count": 1,
   "id": "regional-federal",
   "metadata": {
    "Collapsed": "false"
   },
   "outputs": [],
   "source": [
    "from pigeonXT import annotate\n",
    "from IPython.display import display, Image\n",
    "import ipywidgets as widgets\n",
    "import pandas as pd\n",
    "import os\n",
    "import base64\n",
    "from IPython.display import HTML"
   ]
  },
  {
   "cell_type": "code",
   "execution_count": 2,
   "id": "monthly-evaluation",
   "metadata": {},
   "outputs": [
    {
     "data": {
      "application/vnd.jupyter.widget-view+json": {
       "model_id": "1ee87bd6cb9c40ef983effbc3a9c5cf2",
       "version_major": 2,
       "version_minor": 0
      },
      "text/plain": [
       "HTML(value='0 of 6 Examples annotated, Current Position: 0 ')"
      ]
     },
     "metadata": {},
     "output_type": "display_data"
    },
    {
     "data": {
      "application/vnd.jupyter.widget-view+json": {
       "model_id": "fc04c5d97776484285dc658faf680b56",
       "version_major": 2,
       "version_minor": 0
      },
      "text/plain": [
       "HBox(children=(Button(description='Anomaly', style=ButtonStyle()), Button(description='Not Anomaly', style=But…"
      ]
     },
     "metadata": {},
     "output_type": "display_data"
    },
    {
     "data": {
      "application/vnd.jupyter.widget-view+json": {
       "model_id": "639be089d37a4c4d9225cb7d8b56c6a9",
       "version_major": 2,
       "version_minor": 0
      },
      "text/plain": [
       "Output()"
      ]
     },
     "metadata": {},
     "output_type": "display_data"
    }
   ],
   "source": [
    "waveform_name = 'PIV'\n",
    "SYS_IMG_DIR = 'img_' + waveform_name\n",
    "img_list = list(filter(lambda x: x.endswith('png'), os.listdir(SYS_IMG_DIR)))\n",
    "img_list.sort()\n",
    "\n",
    "annotations = annotate(\n",
    "  img_list,\n",
    "  include_back = True,\n",
    "  options=['Anomaly', 'Not Anomaly'],\n",
    "  display_fn=lambda filename: display(Image(os.path.join(SYS_IMG_DIR, filename)))\n",
    ")"
   ]
  },
  {
   "cell_type": "code",
   "execution_count": 3,
   "id": "variable-advantage",
   "metadata": {},
   "outputs": [],
   "source": [
    "def create_download_link(title = \"Download lables as CSV\", filename = \"data.csv\"):  \n",
    "    csv = pd.DataFrame(annotations, index = ['lable']).T.to_csv()\n",
    "    b64 = base64.b64encode(csv.encode())\n",
    "    payload = b64.decode()\n",
    "    html = '<a download=\"{filename}\" href=\"data:text/csv;base64,{payload}\" target=\"_blank\">{title}</a>'\n",
    "    html = html.format(payload=payload,title=title,filename=filename)\n",
    "    return HTML(html)"
   ]
  },
  {
   "cell_type": "code",
   "execution_count": 4,
   "id": "organic-radius",
   "metadata": {},
   "outputs": [],
   "source": [
    "def display_download_link(x):\n",
    "    display(create_download_link(title = \"Download lables as CSV\", filename = \"data.csv\"))"
   ]
  },
  {
   "cell_type": "code",
   "execution_count": 5,
   "id": "smaller-reform",
   "metadata": {},
   "outputs": [
    {
     "data": {
      "application/vnd.jupyter.widget-view+json": {
       "model_id": "2ecafbc16b6543d0a23d3391d855e27f",
       "version_major": 2,
       "version_minor": 0
      },
      "text/plain": [
       "ToggleButtons(options=('Done',), tooltips=('Get link to download the labels',), value=None)"
      ]
     },
     "metadata": {},
     "output_type": "display_data"
    },
    {
     "data": {
      "text/html": [
       "<a download=\"data.csv\" href=\"data:text/csv;base64,LGxhYmxlDQoyMDE2LTExLTEyIDIyXzU5XzU4KzAwXzAwLnBuZyxBbm9tYWx5DQoyMDE2LTExLTIwIDE4XzU5XzU5KzAwXzAwLnBuZyxOb3QgQW5vbWFseQ0KMjAxNi0xMS0yNSAxNF81OV81OCswMF8wMC5wbmcsTm90IEFub21hbHkNCjIwMTYtMTEtMjggMTRfMDVfMzYrMDBfMDAucG5nLEFub21hbHkNCjIwMTYtMTItMDUgMThfMDZfNDArMDBfMDAucG5nLE5vdCBBbm9tYWx5DQo=\" target=\"_blank\">Download lables as CSV</a>"
      ],
      "text/plain": [
       "<IPython.core.display.HTML object>"
      ]
     },
     "metadata": {},
     "output_type": "display_data"
    }
   ],
   "source": [
    "toggle = widgets.ToggleButtons(\n",
    "                options=['Done'],\n",
    "                index = None,\n",
    "                disabled=False,\n",
    "                button_style='',\n",
    "                tooltips=['Get link to download the labels'])\n",
    "toggle.observe(display_download_link, names=['value'])\n",
    "display(toggle)"
   ]
  }
 ],
 "metadata": {
  "jupytext": {
   "text_representation": {
    "extension": ".py",
    "format_name": "light",
    "format_version": "1.5",
    "jupytext_version": "1.5.2"
   }
  },
  "kernelspec": {
   "display_name": "Python 3",
   "language": "python",
   "name": "python3"
  },
  "language_info": {
   "codemirror_mode": {
    "name": "ipython",
    "version": 3
   },
   "file_extension": ".py",
   "mimetype": "text/x-python",
   "name": "python",
   "nbconvert_exporter": "python",
   "pygments_lexer": "ipython3",
   "version": "3.8.5"
  }
 },
 "nbformat": 4,
 "nbformat_minor": 5
}
