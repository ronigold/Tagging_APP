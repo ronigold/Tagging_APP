{
 "cells": [
  {
   "cell_type": "markdown",
   "id": "higher-catalog",
   "metadata": {
    "Collapsed": "false"
   },
   "source": [
    "## Tagging app"
   ]
  },
  {
   "cell_type": "code",
   "execution_count": 1,
   "id": "polar-cartridge",
   "metadata": {
    "Collapsed": "false"
   },
   "outputs": [],
   "source": [
    "from pigeonXT import annotate\n",
    "import ipywidgets as widgets\n",
    "import pandas as pd\n",
    "import os\n",
    "from IPython.display import HTML, FileLink, display, Image"
   ]
  },
  {
   "cell_type": "code",
   "execution_count": 2,
   "id": "pharmaceutical-upgrade",
   "metadata": {
    "Collapsed": "false"
   },
   "outputs": [
    {
     "data": {
      "application/vnd.jupyter.widget-view+json": {
       "model_id": "acc50905775842d1acf1c690be1fabdb",
       "version_major": 2,
       "version_minor": 0
      },
      "text/plain": [
       "HTML(value='0 of 258 Examples annotated, Current Position: 0 ')"
      ]
     },
     "metadata": {},
     "output_type": "display_data"
    },
    {
     "data": {
      "application/vnd.jupyter.widget-view+json": {
       "model_id": "ce4343a9eba3479b8e6e3effaaca49b4",
       "version_major": 2,
       "version_minor": 0
      },
      "text/plain": [
       "HBox(children=(Button(description='Anomaly', style=ButtonStyle()), Button(description='Not Anomaly', style=But…"
      ]
     },
     "metadata": {},
     "output_type": "display_data"
    },
    {
     "data": {
      "application/vnd.jupyter.widget-view+json": {
       "model_id": "bf24f17d4d9a43ed984dec1d96d3e9bb",
       "version_major": 2,
       "version_minor": 0
      },
      "text/plain": [
       "Output()"
      ]
     },
     "metadata": {},
     "output_type": "display_data"
    }
   ],
   "source": [
    "# waveform_name = 'PIV'\n",
    "# SYS_IMG_DIR = '../img_' + waveform_name\n",
    "# img_list = list(filter(lambda x: x.endswith('png'), os.listdir(SYS_IMG_DIR)))\n",
    "# img_list.sort()\n",
    "# global annotations\n",
    "# annotations = annotate(\n",
    "#   img_list,\n",
    "#   include_back = True,\n",
    "#   options=['Anomaly', 'Not Anomaly'],\n",
    "#   display_fn=lambda filename: display(Image(os.path.join(SYS_IMG_DIR, filename)))\n",
    "# )"
   ]
  },
  {
   "cell_type": "code",
   "execution_count": 3,
   "id": "special-substitute",
   "metadata": {
    "Collapsed": "false"
   },
   "outputs": [
    {
     "name": "stdout",
     "output_type": "stream",
     "text": [
      "Please enter your name and email address\n"
     ]
    },
    {
     "data": {
      "application/vnd.jupyter.widget-view+json": {
       "model_id": "71904b6cb6be41b79e4234ce594af5b0",
       "version_major": 2,
       "version_minor": 0
      },
      "text/plain": [
       "Text(value=\"e.g. 'Roni Goldshmidt'\", description='Name')"
      ]
     },
     "metadata": {},
     "output_type": "display_data"
    },
    {
     "data": {
      "application/vnd.jupyter.widget-view+json": {
       "model_id": "569e3758a1a147779a040c39f1cf0594",
       "version_major": 2,
       "version_minor": 0
      },
      "text/plain": [
       "Text(value=\"e.g. 'roni.gold@ni.com'\", description='Email')"
      ]
     },
     "metadata": {},
     "output_type": "display_data"
    },
    {
     "data": {
      "application/vnd.jupyter.widget-view+json": {
       "model_id": "9067d5c9fc8c4a88bd17e664a6ce0b0a",
       "version_major": 2,
       "version_minor": 0
      },
      "text/plain": [
       "Text(value='', description='Notes')"
      ]
     },
     "metadata": {},
     "output_type": "display_data"
    }
   ],
   "source": [
    "# import ipywidgets as widgets\n",
    "# from IPython.display import display\n",
    "\n",
    "# global f\n",
    "# class date_input():\n",
    "#     def __init__(self, name = \"e.g. 'Roni Goldshmidt'\", email = \"e.g. 'roni.gold@ni.com'\", notes = \"\"):\n",
    "#         self.name = widgets.Text(description = 'Name',value = name)\n",
    "#         self.email = widgets.Text(description = 'Email',value = email)\n",
    "#         self.notes = widgets.Text(description = 'Notes',notes = notes)\n",
    "#         self.name.on_submit(self.handle_submit)\n",
    "#         self.email.on_submit(self.handle_submit)\n",
    "#         self.notes.on_submit(self.handle_submit)\n",
    "#         display(self.name)\n",
    "#         display(self.email)\n",
    "#         display(self.notes)\n",
    "\n",
    "#     def handle_submit(self, text):\n",
    "#         self.v = text.value\n",
    "#         return self.v\n",
    "\n",
    "# print(\"Please enter your name and email address\")\n",
    "# f = date_input()"
   ]
  },
  {
   "cell_type": "code",
   "execution_count": 4,
   "id": "divine-syntax",
   "metadata": {
    "Collapsed": "false"
   },
   "outputs": [],
   "source": [
    "# import smtplib\n",
    "# from email.mime.text import MIMEText\n",
    "# from email.mime.multipart import MIMEMultipart\n",
    "# import pandas as pd\n",
    "\n",
    "# def sendMail():\n",
    "#     name = f.name.value\n",
    "#     email_lable = f.email.value\n",
    "#     notes = f.notes.value\n",
    "#     df = pd.DataFrame(annotations, index = ['label']).T\n",
    "#     email = \"op.labeling@gmail.com\"\n",
    "#     password = 'Qq112233'\n",
    "#     send_to_email =[\"roni.goldshmidt@ni.com\",]\n",
    "#     subject = 'New tagged'\n",
    "#     df=df.to_html()\n",
    "#     ds=str(df)\n",
    "#     messageHTML = 'name: ' + name + ' | email: ' + email_lable + ' |  notes: ' + notes + ds\n",
    "#     messagePlain = 'marks of your class'\n",
    "#     msg = MIMEMultipart('alternative')\n",
    "#     msg['From'] = email\n",
    "#     msg['To'] = ', '.join(send_to_email)\n",
    "#     msg['Subject'] = subject\n",
    "\n",
    "#     msg.attach(MIMEText(messagePlain, 'plain'))\n",
    "#     msg.attach(MIMEText(messageHTML, 'html'))\n",
    "\n",
    "#     server = smtplib.SMTP(\"smtp.gmail.com\",587)\n",
    "#     server.starttls()\n",
    "#     server.login(email, password)\n",
    "#     text = msg.as_string()\n",
    "#     server.sendmail(email, send_to_email, text)\n",
    "#     server.quit()"
   ]
  },
  {
   "cell_type": "code",
   "execution_count": 5,
   "id": "celtic-force",
   "metadata": {
    "Collapsed": "false"
   },
   "outputs": [
    {
     "data": {
      "application/vnd.jupyter.widget-view+json": {
       "model_id": "604337a3fbb94bcda569a2ac23a6c965",
       "version_major": 2,
       "version_minor": 0
      },
      "text/plain": [
       "Button(description='Submit', style=ButtonStyle())"
      ]
     },
     "metadata": {},
     "output_type": "display_data"
    },
    {
     "data": {
      "application/vnd.jupyter.widget-view+json": {
       "model_id": "78ad4d95e4184bf7823f8903175b6df9",
       "version_major": 2,
       "version_minor": 0
      },
      "text/plain": [
       "Output()"
      ]
     },
     "metadata": {},
     "output_type": "display_data"
    }
   ],
   "source": [
    "# button = widgets.Button(description=\"Submit\")\n",
    "# output = widgets.Output()\n",
    "\n",
    "# display(button, output)\n",
    "\n",
    "# def on_button_clicked(b):\n",
    "#     with output:\n",
    "#         print('Sending email With labeling results...')\n",
    "#         sendMail()\n",
    "#         print(\"Sent successfully!\")\n",
    "\n",
    "# button.on_click(on_button_clicked)"
   ]
  }
 ],
 "metadata": {
  "jupytext": {
   "text_representation": {
    "extension": ".py",
    "format_name": "light",
    "format_version": "1.5",
    "jupytext_version": "1.5.2"
   }
  },
  "kernelspec": {
   "display_name": "fastai2",
   "language": "python",
   "name": "fastai2"
  },
  "language_info": {
   "codemirror_mode": {
    "name": "ipython",
    "version": 3
   },
   "file_extension": ".py",
   "mimetype": "text/x-python",
   "name": "python",
   "nbconvert_exporter": "python",
   "pygments_lexer": "ipython3",
   "version": "3.8.5"
  }
 },
 "nbformat": 4,
 "nbformat_minor": 5
}
