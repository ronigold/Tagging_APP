{
 "cells": [
  {
   "cell_type": "markdown",
   "id": "single-slovenia",
   "metadata": {
    "Collapsed": "false"
   },
   "source": [
    "## Tagging app"
   ]
  },
  {
   "cell_type": "code",
   "execution_count": 1,
   "id": "blond-round",
   "metadata": {
    "Collapsed": "false"
   },
   "outputs": [],
   "source": [
    "from pigeonXT import annotate\n",
    "import ipywidgets as widgets\n",
    "import pandas as pd\n",
    "import os\n",
    "from IPython.display import HTML, FileLink, display, Image"
   ]
  },
  {
   "cell_type": "code",
   "execution_count": 2,
   "id": "tribal-china",
   "metadata": {
    "Collapsed": "false"
   },
   "outputs": [
    {
     "data": {
      "application/vnd.jupyter.widget-view+json": {
       "model_id": "36c2b3bc03ec4e1dbc35a978640e1d33",
       "version_major": 2,
       "version_minor": 0
      },
      "text/plain": [
       "HTML(value='0 of 258 Examples annotated, Current Position: 0 ')"
      ]
     },
     "metadata": {},
     "output_type": "display_data"
    },
    {
     "data": {
      "application/vnd.jupyter.widget-view+json": {
       "model_id": "4041a2d433f64561bc1082d16f87e20c",
       "version_major": 2,
       "version_minor": 0
      },
      "text/plain": [
       "HBox(children=(Button(description='Anomaly', style=ButtonStyle()), Button(description='Not Anomaly', style=But…"
      ]
     },
     "metadata": {},
     "output_type": "display_data"
    },
    {
     "data": {
      "application/vnd.jupyter.widget-view+json": {
       "model_id": "ec8b877510524d9a8d70376aae4781de",
       "version_major": 2,
       "version_minor": 0
      },
      "text/plain": [
       "Output()"
      ]
     },
     "metadata": {},
     "output_type": "display_data"
    }
   ],
   "source": [
    "waveform_name = 'PIV'\n",
    "SYS_IMG_DIR = '../img_' + waveform_name\n",
    "img_list = list(filter(lambda x: x.endswith('png'), os.listdir(SYS_IMG_DIR)))\n",
    "img_list.sort()\n",
    "global annotations\n",
    "annotations = annotate(\n",
    "  img_list,\n",
    "  include_back = True,\n",
    "  options=['Anomaly', 'Not Anomaly'],\n",
    "  display_fn=lambda filename: display(Image(os.path.join(SYS_IMG_DIR, filename)))\n",
    ")"
   ]
  },
  {
   "cell_type": "code",
   "execution_count": 3,
   "id": "executed-invalid",
   "metadata": {
    "Collapsed": "false"
   },
   "outputs": [
    {
     "name": "stdout",
     "output_type": "stream",
     "text": [
      "Please enter your name and email address\n"
     ]
    },
    {
     "data": {
      "application/vnd.jupyter.widget-view+json": {
       "model_id": "076d35a6b617465d8badd56aa9171a89",
       "version_major": 2,
       "version_minor": 0
      },
      "text/plain": [
       "Text(value=\"e.g. 'Roni Goldshmidt'\", description='Name')"
      ]
     },
     "metadata": {},
     "output_type": "display_data"
    },
    {
     "data": {
      "application/vnd.jupyter.widget-view+json": {
       "model_id": "e30c002976174f0a9f2680365418eaaf",
       "version_major": 2,
       "version_minor": 0
      },
      "text/plain": [
       "Text(value=\"e.g. 'roni.gold@ni.com'\", description='Email')"
      ]
     },
     "metadata": {},
     "output_type": "display_data"
    },
    {
     "data": {
      "application/vnd.jupyter.widget-view+json": {
       "model_id": "d9916ca044d14467a53781953511766a",
       "version_major": 2,
       "version_minor": 0
      },
      "text/plain": [
       "Text(value='', description='Notes')"
      ]
     },
     "metadata": {},
     "output_type": "display_data"
    }
   ],
   "source": [
    "import ipywidgets as widgets\n",
    "from IPython.display import display\n",
    "\n",
    "global f\n",
    "class date_input():\n",
    "    def __init__(self, name = \"e.g. 'Roni Goldshmidt'\", email = \"e.g. 'roni.gold@ni.com'\", notes = \"\"):\n",
    "        self.name = widgets.Text(description = 'Name',value = name)\n",
    "        self.email = widgets.Text(description = 'Email',value = email)\n",
    "        self.notes = widgets.Text(description = 'Notes',notes = notes)\n",
    "        self.name.on_submit(self.handle_submit)\n",
    "        self.email.on_submit(self.handle_submit)\n",
    "        self.notes.on_submit(self.handle_submit)\n",
    "        display(self.name)\n",
    "        display(self.email)\n",
    "        display(self.notes)\n",
    "\n",
    "    def handle_submit(self, text):\n",
    "        self.v = text.value\n",
    "        return self.v\n",
    "\n",
    "print(\"Please enter your name and email address\")\n",
    "f = date_input()"
   ]
  },
  {
   "cell_type": "code",
   "execution_count": 16,
   "id": "lonely-hygiene",
   "metadata": {
    "Collapsed": "false"
   },
   "outputs": [],
   "source": [
    "import smtplib\n",
    "from email.mime.text import MIMEText\n",
    "from email.mime.multipart import MIMEMultipart\n",
    "import pandas as pd\n",
    "\n",
    "def sendMail():\n",
    "    name = f.name.value\n",
    "    email_lable = f.email.value\n",
    "    notes = f.notes.value\n",
    "    df = pd.DataFrame(annotations, index = ['label']).T\n",
    "    email = \"op.labeling@gmail.com\"\n",
    "    password = 'Qq112233'\n",
    "    send_to_email =[\"roni.goldshmidt@ni.com\",]\n",
    "    subject = 'New tagged'\n",
    "    df=df.to_html()\n",
    "    ds=str(df)\n",
    "    messageHTML = 'name: ' + name + ' | email: ' + email_lable + ' |  notes: ' + notes + ds\n",
    "    messagePlain = 'marks of your class'\n",
    "    msg = MIMEMultipart('alternative')\n",
    "    msg['From'] = email\n",
    "    msg['To'] = ', '.join(send_to_email)\n",
    "    msg['Subject'] = subject\n",
    "\n",
    "    msg.attach(MIMEText(messagePlain, 'plain'))\n",
    "    msg.attach(MIMEText(messageHTML, 'html'))\n",
    "\n",
    "    server = smtplib.SMTP(\"smtp.gmail.com\",587)\n",
    "    server.starttls()\n",
    "    server.login(email, password)\n",
    "    text = msg.as_string()\n",
    "    server.sendmail(email, send_to_email, text)\n",
    "    server.quit()"
   ]
  },
  {
   "cell_type": "code",
   "execution_count": 17,
   "id": "entire-annual",
   "metadata": {
    "Collapsed": "false"
   },
   "outputs": [
    {
     "data": {
      "application/vnd.jupyter.widget-view+json": {
       "model_id": "eda9460649e34a8aa977e2e57469a3b7",
       "version_major": 2,
       "version_minor": 0
      },
      "text/plain": [
       "Button(description='Submit', style=ButtonStyle())"
      ]
     },
     "metadata": {},
     "output_type": "display_data"
    },
    {
     "data": {
      "application/vnd.jupyter.widget-view+json": {
       "model_id": "62d9b51deb1a4bb09f5391bcb9b0168c",
       "version_major": 2,
       "version_minor": 0
      },
      "text/plain": [
       "Output()"
      ]
     },
     "metadata": {},
     "output_type": "display_data"
    }
   ],
   "source": [
    "button = widgets.Button(description=\"Submit\")\n",
    "output = widgets.Output()\n",
    "\n",
    "display(button, output)\n",
    "\n",
    "def on_button_clicked(b):\n",
    "    with output:\n",
    "        print('Sending email With labeling results...')\n",
    "        sendMail()\n",
    "        print(\"Sent successfully!\")\n",
    "\n",
    "button.on_click(on_button_clicked)"
   ]
  }
 ],
 "metadata": {
  "jupytext": {
   "text_representation": {
    "extension": ".py",
    "format_name": "light",
    "format_version": "1.5",
    "jupytext_version": "1.5.2"
   }
  },
  "kernelspec": {
   "display_name": "fastai2",
   "language": "python",
   "name": "fastai2"
  },
  "language_info": {
   "codemirror_mode": {
    "name": "ipython",
    "version": 3
   },
   "file_extension": ".py",
   "mimetype": "text/x-python",
   "name": "python",
   "nbconvert_exporter": "python",
   "pygments_lexer": "ipython3",
   "version": "3.8.5"
  }
 },
 "nbformat": 4,
 "nbformat_minor": 5
}
