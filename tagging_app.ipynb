{
 "cells": [
  {
   "cell_type": "markdown",
   "id": "electoral-making",
   "metadata": {
    "Collapsed": "false"
   },
   "source": [
    "## Tagging app"
   ]
  },
  {
   "cell_type": "code",
   "execution_count": 11,
   "id": "regional-federal",
   "metadata": {
    "Collapsed": "false"
   },
   "outputs": [],
   "source": [
    "from pigeonXT import annotate\n",
    "from IPython.display import display, Image\n",
    "import ipywidgets as widgets\n",
    "import pandas as pd\n",
    "import os\n",
    "import base64\n",
    "from IPython.display import HTML, FileLink"
   ]
  },
  {
   "cell_type": "code",
   "execution_count": 12,
   "id": "raising-filling",
   "metadata": {},
   "outputs": [
    {
     "data": {
      "application/vnd.jupyter.widget-view+json": {
       "model_id": "733a798c7b12431184fb995f136d0e85",
       "version_major": 2,
       "version_minor": 0
      },
      "text/plain": [
       "HTML(value='0 of 6 Examples annotated, Current Position: 0 ')"
      ]
     },
     "metadata": {},
     "output_type": "display_data"
    },
    {
     "data": {
      "application/vnd.jupyter.widget-view+json": {
       "model_id": "f25a6155f33742eaab264545af92f3d2",
       "version_major": 2,
       "version_minor": 0
      },
      "text/plain": [
       "HBox(children=(Button(description='Anomaly', style=ButtonStyle()), Button(description='Not Anomaly', style=But…"
      ]
     },
     "metadata": {},
     "output_type": "display_data"
    },
    {
     "data": {
      "application/vnd.jupyter.widget-view+json": {
       "model_id": "f5e665598fb144d7907c962781e8ad15",
       "version_major": 2,
       "version_minor": 0
      },
      "text/plain": [
       "Output()"
      ]
     },
     "metadata": {},
     "output_type": "display_data"
    },
    {
     "name": "stdout",
     "output_type": "stream",
     "text": [
      "Annotation done.\n"
     ]
    }
   ],
   "source": [
    "waveform_name = 'PIV'\n",
    "SYS_IMG_DIR = 'img_' + waveform_name\n",
    "img_list = list(filter(lambda x: x.endswith('png'), os.listdir(SYS_IMG_DIR)))\n",
    "img_list.sort()\n",
    "\n",
    "annotations = annotate(\n",
    "  img_list,\n",
    "  include_back = True,\n",
    "  options=['Anomaly', 'Not Anomaly'],\n",
    "  display_fn=lambda filename: display(Image(os.path.join(SYS_IMG_DIR, filename)))\n",
    ")"
   ]
  },
  {
   "cell_type": "code",
   "execution_count": 17,
   "id": "female-convert",
   "metadata": {},
   "outputs": [],
   "source": [
    "def csv_download_link(df, csv_file_name, delete_prompt=True):\n",
    "    \"\"\"Display a download link to load a data frame as csv from within a Jupyter notebook\"\"\"\n",
    "    df.to_csv(csv_file_name)\n",
    "    display(FileLink(csv_file_name))"
   ]
  },
  {
   "cell_type": "code",
   "execution_count": 18,
   "id": "honey-cabinet",
   "metadata": {},
   "outputs": [],
   "source": [
    "def display_download_link(x):\n",
    "    display(csv_download_link(df = pd.DataFrame(annotations, index = ['lable']).T, csv_file_name = \"data.csv\"))"
   ]
  },
  {
   "cell_type": "code",
   "execution_count": 20,
   "id": "durable-baseball",
   "metadata": {},
   "outputs": [
    {
     "data": {
      "application/vnd.jupyter.widget-view+json": {
       "model_id": "14dc17414f184458b4f4adf0c7470abf",
       "version_major": 2,
       "version_minor": 0
      },
      "text/plain": [
       "ToggleButtons(options=('Done',), tooltips=('Get link to download the labels',), value=None)"
      ]
     },
     "metadata": {},
     "output_type": "display_data"
    },
    {
     "data": {
      "text/html": [
       "<a href='data.csv' target='_blank'>data.csv</a><br>"
      ],
      "text/plain": [
       "C:\\notebooks\\tagging app\\data.csv"
      ]
     },
     "metadata": {},
     "output_type": "display_data"
    },
    {
     "data": {
      "text/plain": [
       "None"
      ]
     },
     "metadata": {},
     "output_type": "display_data"
    }
   ],
   "source": [
    "toggle = widgets.ToggleButtons(\n",
    "                options=['Done'],\n",
    "                index = None,\n",
    "                disabled=False,\n",
    "                button_style='',\n",
    "                tooltips=['Get link to download the labels'])\n",
    "toggle.observe(display_download_link, names=['value'])\n",
    "display(toggle)"
   ]
  }
 ],
 "metadata": {
  "jupytext": {
   "text_representation": {
    "extension": ".py",
    "format_name": "light",
    "format_version": "1.5",
    "jupytext_version": "1.5.2"
   }
  },
  "kernelspec": {
   "display_name": "Python 3",
   "language": "python",
   "name": "python3"
  },
  "language_info": {
   "codemirror_mode": {
    "name": "ipython",
    "version": 3
   },
   "file_extension": ".py",
   "mimetype": "text/x-python",
   "name": "python",
   "nbconvert_exporter": "python",
   "pygments_lexer": "ipython3",
   "version": "3.8.5"
  }
 },
 "nbformat": 4,
 "nbformat_minor": 5
}
